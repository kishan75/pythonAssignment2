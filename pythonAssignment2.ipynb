{
  "nbformat": 4,
  "nbformat_minor": 0,
  "metadata": {
    "colab": {
      "name": "pythonAssignment2",
      "provenance": [],
      "collapsed_sections": [],
      "authorship_tag": "ABX9TyMwl11g4jVX4r1BoEOGGuq2",
      "include_colab_link": true
    },
    "kernelspec": {
      "name": "python3",
      "display_name": "Python 3"
    },
    "language_info": {
      "name": "python"
    }
  },
  "cells": [
    {
      "cell_type": "markdown",
      "metadata": {
        "id": "view-in-github",
        "colab_type": "text"
      },
      "source": [
        "<a href=\"https://colab.research.google.com/github/kishan75/pythonAssignment2/blob/main/pythonAssignment2.ipynb\" target=\"_parent\"><img src=\"https://colab.research.google.com/assets/colab-badge.svg\" alt=\"Open In Colab\"/></a>"
      ]
    },
    {
      "cell_type": "markdown",
      "metadata": {
        "id": "5BiIZeRtGTwF"
      },
      "source": [
        "1. **Print the numbers using while loop between range m and n provided by the user in python.**"
      ]
    },
    {
      "cell_type": "code",
      "metadata": {
        "colab": {
          "base_uri": "https://localhost:8080/"
        },
        "id": "GNcMl8L5Hmtv",
        "outputId": "747ce2da-bbe9-465d-9430-57c7c6e575e9"
      },
      "source": [
        "m = int(input(\"enter the value of m : \"))\n",
        "n = int(input(\"\\n enter the value of n \\n\"))\n",
        "\n",
        "if m != min(m,n):\n",
        "  c = m\n",
        "  m = n\n",
        "  n = c\n",
        "\n",
        "m+=1\n",
        "\n",
        "while m<n:\n",
        "  print(m)\n",
        "  m+=1"
      ],
      "execution_count": null,
      "outputs": [
        {
          "output_type": "stream",
          "name": "stdout",
          "text": [
            "enter the value of m : 7\n",
            "\n",
            " enter the value of n \n",
            "2\n",
            "3\n",
            "4\n",
            "5\n",
            "6\n"
          ]
        }
      ]
    },
    {
      "cell_type": "markdown",
      "metadata": {
        "id": "DB30Dx8HGTmZ"
      },
      "source": [
        "2. **Print the following pattern in python**\n",
        "\n",
        "12345 54321\n",
        "\n",
        "1234 4321\n",
        "\n",
        "123 321\n",
        "\n",
        "12 21\n",
        "\n",
        "1 1"
      ]
    },
    {
      "cell_type": "code",
      "metadata": {
        "colab": {
          "base_uri": "https://localhost:8080/"
        },
        "id": "pwD3oNFBqm98",
        "outputId": "e8eeb5cc-ef17-4961-d809-ecdae2f2d9c2"
      },
      "source": [
        "for i in range(5, 0, -1):\n",
        "  for j in range(1,i+1):\n",
        "    print(j,end='')\n",
        "  print(' ',end='')\n",
        "\n",
        "  for j in range(i, 0, -1):\n",
        "    print(j,end='')\n",
        "  print('\\n')"
      ],
      "execution_count": 7,
      "outputs": [
        {
          "output_type": "stream",
          "name": "stdout",
          "text": [
            "12345 54321\n",
            "\n",
            "1234 4321\n",
            "\n",
            "123 321\n",
            "\n",
            "12 21\n",
            "\n",
            "1 1\n",
            "\n"
          ]
        }
      ]
    },
    {
      "cell_type": "markdown",
      "metadata": {
        "id": "miNC7btdGTeW"
      },
      "source": [
        "3. **Find the sum of the series 5+55+555+……+nth term, n is the input given by the user.**"
      ]
    },
    {
      "cell_type": "code",
      "metadata": {
        "colab": {
          "base_uri": "https://localhost:8080/"
        },
        "id": "7Nyg5wCOug19",
        "outputId": "6132a99a-647e-43b4-abcc-f046935803d6"
      },
      "source": [
        "n=int(input('number of terms'))\n",
        "carry=0\n",
        "total_sum=[]\n",
        "\n",
        "for i in range(n, 0, -1):\n",
        "  sum=(5*i+carry)\n",
        "  total_sum.insert(0,(sum%10))\n",
        "  carry=int(sum/10)\n",
        "\n",
        "print(''.join([str(st) for st in total_sum]))\n",
        "\n"
      ],
      "execution_count": 12,
      "outputs": [
        {
          "output_type": "stream",
          "name": "stdout",
          "text": [
            "number of terms15\n",
            "617283950617275\n"
          ]
        }
      ]
    },
    {
      "cell_type": "markdown",
      "metadata": {
        "id": "HL9Bpf7YGTXf"
      },
      "source": [
        "4. **Write a program to generate a series from –n to n and then display the prime numbers in the generated series. n is the input provided by the user.**"
      ]
    },
    {
      "cell_type": "code",
      "metadata": {
        "colab": {
          "base_uri": "https://localhost:8080/"
        },
        "id": "Qag3Plb3z0rm",
        "outputId": "1b18eb7c-9071-4f93-e2f6-ff72583b0521"
      },
      "source": [
        "n = int(input('enter n'))\n",
        "arr = [0 for i in range(n+1)]\n",
        "\n",
        "for i in range(2,n+1):\n",
        "  if arr[i]==0:\n",
        "    print(i)\n",
        "    for j in range(i*2,n+1,i):\n",
        "      arr[j]=1\n"
      ],
      "execution_count": 19,
      "outputs": [
        {
          "output_type": "stream",
          "name": "stdout",
          "text": [
            "enter n10\n",
            "2\n",
            "3\n",
            "5\n",
            "7\n"
          ]
        }
      ]
    },
    {
      "cell_type": "markdown",
      "metadata": {
        "id": "bFINxRdWGTUZ"
      },
      "source": [
        "5. **Write a program to generate a series till n and find factorial of all the odd numbers in the series. n will be the input provided by the use**"
      ]
    },
    {
      "cell_type": "code",
      "metadata": {
        "colab": {
          "base_uri": "https://localhost:8080/"
        },
        "id": "Of3HDYZi6ONR",
        "outputId": "0427cccc-254f-4df0-e50b-b97c232ab4b7"
      },
      "source": [
        "n=int(input('enter number of terms'))\n",
        "\n",
        "fact=1\n",
        "\n",
        "print(fact)\n",
        "\n",
        "for i in range(3,n+1,2):\n",
        "  fact*=(i*(i-1))\n",
        "  print(fact)\n",
        "\n"
      ],
      "execution_count": 27,
      "outputs": [
        {
          "output_type": "stream",
          "name": "stdout",
          "text": [
            "enter number of terms15\n",
            "1\n",
            "6\n",
            "120\n",
            "5040\n",
            "362880\n",
            "39916800\n",
            "6227020800\n",
            "1307674368000\n"
          ]
        }
      ]
    },
    {
      "cell_type": "markdown",
      "metadata": {
        "id": "WCZqlLcHGTQ1"
      },
      "source": [
        "6. **Create a function that accepts principal amount, rate of interest and time to display the simple interest. If the rate of interest or time or both are missing in the function call it should assign default value 6 to rate and 10 to time.**"
      ]
    },
    {
      "cell_type": "code",
      "metadata": {
        "colab": {
          "base_uri": "https://localhost:8080/"
        },
        "id": "qK38NZpn_Gsy",
        "outputId": "54875d8d-df83-4e0c-8f84-ed0be4e20872"
      },
      "source": [
        "def simple_interest(p,r=6,t=10):\n",
        "  return p*(1+(r*t))\n",
        "\n",
        "p=int(input('enter principle amount'))\n",
        "r=input('enter rate of interest')\n",
        "t=input('enter time')\n",
        "\n",
        "if r:\n",
        "  if t:\n",
        "    print(simple_interest(p,int(r),int(t)))\n",
        "  else:\n",
        "    print(simple_interest(p,int(r)))\n",
        "elif t:\n",
        "    print(simple_interest(p,t=int(t)))\n",
        "else:\n",
        "  print(simple_interest(p))"
      ],
      "execution_count": 34,
      "outputs": [
        {
          "output_type": "stream",
          "name": "stdout",
          "text": [
            "enter principle amount52\n",
            "enter rate of interest\n",
            "enter time52\n",
            "16276\n"
          ]
        }
      ]
    },
    {
      "cell_type": "markdown",
      "metadata": {
        "id": "_SKDxJBsGTHa"
      },
      "source": [
        "7. **Create a function add(), multiply() such that each accepts variable length argument and returns the addition and product of all the arguments provided while calling corresponding function.**\n",
        "\n",
        "For eg : add(5,10) should return 15\n",
        "\n",
        "add(5,6,10) should return 21\n",
        "\n",
        "add(4,7,4,7) should return 22 and so on\n",
        "\n",
        "multiply(5,6) should return 30\n",
        "\n",
        "subtract(4,8,9) should return 288 and so on  "
      ]
    },
    {
      "cell_type": "code",
      "metadata": {
        "colab": {
          "base_uri": "https://localhost:8080/"
        },
        "id": "XeH2dpAXKeng",
        "outputId": "13bae761-0c0f-4c63-81ae-03daf5d56496"
      },
      "source": [
        "import numpy as np\n",
        "statement = input(\"enter the statement\")\n",
        "splited = statement.split('(')\n",
        "operation = splited[0]\n",
        "operands = (splited[1].split(')'))[0].split(',')\n",
        "\n",
        "if operation == 'add':\n",
        "  print(np.sum([int(i) for i in operands ]))\n",
        "\n",
        "elif operation == 'multiply':\n",
        "  print(np.product([int(i) for i in operands ]))\n",
        "\n",
        "else:\n",
        "  print('invalid operation')"
      ],
      "execution_count": 40,
      "outputs": [
        {
          "output_type": "stream",
          "name": "stdout",
          "text": [
            "enter the statementmultiply(5,6,8)\n",
            "240\n"
          ]
        }
      ]
    },
    {
      "cell_type": "markdown",
      "metadata": {
        "id": "d_17Ms1dGSzF"
      },
      "source": [
        "8.**Write a python program to merge any 5 csv files into one**"
      ]
    },
    {
      "cell_type": "code",
      "metadata": {
        "colab": {
          "base_uri": "https://localhost:8080/"
        },
        "id": "12xvWAfjKYEO",
        "outputId": "a97b235f-67d3-431d-c6fe-a9239c47f3a1"
      },
      "source": [
        "import pandas as pd\n",
        "concated_data=pd.concat([pd.read_csv('SimpleLinearRegression.csv'),pd.read_csv('USA_Housing.csv'),pd.read_csv('WHO-COVID-19-global-data.csv'),pd.read_csv('business-financial-data-mar-2021-quarter-csv.csv'),pd.read_csv('covid_19_india.csv')])\n",
        "print(concated_data)\n",
        "concated_data.to_csv('concated_data.csv')"
      ],
      "execution_count": 3,
      "outputs": [
        {
          "output_type": "stream",
          "name": "stdout",
          "text": [
            "       YearsExperience   Salary  ...   Deaths  Confirmed\n",
            "0                  1.1  39343.0  ...      NaN        NaN\n",
            "1                  1.3  46205.0  ...      NaN        NaN\n",
            "2                  1.5  37731.0  ...      NaN        NaN\n",
            "3                  2.0  43525.0  ...      NaN        NaN\n",
            "4                  2.2  39891.0  ...      NaN        NaN\n",
            "...                ...      ...  ...      ...        ...\n",
            "18105              NaN      NaN  ...   3831.0   650353.0\n",
            "18106              NaN      NaN  ...    773.0    80660.0\n",
            "18107              NaN      NaN  ...   7368.0   342462.0\n",
            "18108              NaN      NaN  ...  22775.0  1708812.0\n",
            "18109              NaN      NaN  ...  18252.0  1534999.0\n",
            "\n",
            "[169737 rows x 40 columns]\n"
          ]
        }
      ]
    },
    {
      "cell_type": "markdown",
      "metadata": {
        "id": "gHYKu2oOUq27"
      },
      "source": [
        "9. **Write a program in python to read the three file N1, N2, N3. Each of the files contains list of names. Following operations must be performed by the program:**\n",
        "\n",
        "a.   The program should display the contents of each file"
      ]
    },
    {
      "cell_type": "code",
      "metadata": {
        "colab": {
          "base_uri": "https://localhost:8080/"
        },
        "id": "8zouw9v7WnVm",
        "outputId": "e0bb4e9f-a2bc-4cf1-ba39-ee62d9dbfbcc"
      },
      "source": [
        "with open('N1.txt','r') as file_N1:\n",
        "  read_data = file_N1.read()\n",
        "  print(read_data)\n",
        "  global file_1_data\n",
        "  file_1_data = read_data.splitlines()\n",
        "\n",
        "with open('N2.txt','r') as file_N2:\n",
        "  read_data = file_N2.read()\n",
        "  print(read_data)\n",
        "  global file_2_data\n",
        "  file_2_data = read_data.splitlines()\n",
        "\n",
        "with open('N3.txt','r') as file_N3:\n",
        "  read_data = file_N3.read()\n",
        "  print(read_data)\n",
        "  global file_3_data\n",
        "  file_3_data = read_data.splitlines()\n"
      ],
      "execution_count": null,
      "outputs": [
        {
          "output_type": "stream",
          "name": "stdout",
          "text": [
            "Rajinkant\n",
            "Will Smith\n",
            "Akshay\n",
            "Emraan\n",
            "Aamir\n",
            "Katrina\n",
            "Ajay\n",
            "Leonardo DiCaprio\n",
            "Sanjay\n",
            "Lindsay Lohan\n",
            "Hrithik\n",
            "Tiger\n",
            "Deepika\n",
            "Alia\n",
            "Shahrukh\n",
            "Om Puri\n",
            "Kiara\n",
            "Ranbeer\n",
            "Ranveer\n",
            "Nana Patekar\n",
            "Manoj Tiwari\n",
            "Jackie Shroff\n",
            "Emma Watson\n",
            "\n",
            "\n",
            "Will Smith\n",
            "Robert\n",
            "Shashank\n",
            "Lauren\n",
            "Emraan\n",
            "William\n",
            "Tim\n",
            "Scott\n",
            "Sam\n",
            "Leonardo DiCaprio\n",
            "Rowling\n",
            "Prateik Babbar\n",
            "Lindsay Lohan\n",
            "Deepika\n",
            "Dharmendra\n",
            "Om Puri\n",
            "Dev Anand\n",
            "Nana Patekar\n",
            "Ali Fazal\n",
            "Emma Watson\n",
            "\n",
            "Neil Nitin Mukesh\n",
            "Rahul Roy\n",
            "Varun Dhawan\n",
            "Vinay Pathak\n",
            "Will Smith\n",
            "Richa Chadda\n",
            "Anushka Sharma\n",
            "Vaani Kapoor\n",
            "Emraan\n",
            "Leonardo DiCaprio\n",
            "Lindsay Lohan\n",
            "Shraddha Kapoor\n",
            "Deepika\n",
            "Om Puri\n",
            "Kangana Ranaut\n",
            "Nana Patekar\n",
            "Hansika Motwani\n",
            "Vidya Balan\n",
            "Emma Watson\n"
          ]
        }
      ]
    },
    {
      "cell_type": "markdown",
      "metadata": {
        "id": "Yn4mThjmZ-Ua"
      },
      "source": [
        "b.   Display the names that are common in all three files in the order in which they appear in the file and store them in output file \"output.txt\"."
      ]
    },
    {
      "cell_type": "code",
      "metadata": {
        "colab": {
          "base_uri": "https://localhost:8080/"
        },
        "id": "lRwUSVQ9aAEw",
        "outputId": "b8c5c5fa-461e-4d7d-9f7d-cf442a726e63"
      },
      "source": [
        "output_file_data = []\n",
        "\n",
        "with open('output.txt','a') as file_output:\n",
        "  for name in file_1_data:\n",
        "    if name in file_2_data and name in file_3_data:\n",
        "      file_output.write(name+'\\n')\n",
        "      output_file_data.append(name)\n",
        "\n",
        "print(output_file_data)\n",
        "\n",
        "with open('output.txt','r') as file_data:\n",
        "  read_data = file_data.read()\n",
        "  print(read_data)"
      ],
      "execution_count": null,
      "outputs": [
        {
          "output_type": "stream",
          "name": "stdout",
          "text": [
            "['Will Smith', 'Emraan', 'Leonardo DiCaprio', 'Lindsay Lohan', 'Deepika', 'Om Puri', 'Nana Patekar', 'Emma Watson']\n",
            "Will Smith\n",
            "Emraan\n",
            "Leonardo DiCaprio\n",
            "Lindsay Lohan\n",
            "Deepika\n",
            "Om Puri\n",
            "Nana Patekar\n",
            "Emma Watson\n",
            "\n"
          ]
        }
      ]
    },
    {
      "cell_type": "markdown",
      "metadata": {
        "id": "Il7nbY31aAl1"
      },
      "source": [
        "c. Read all the names from output file \"output.txt\" and form word using first character of all the names."
      ]
    },
    {
      "cell_type": "code",
      "metadata": {
        "colab": {
          "base_uri": "https://localhost:8080/"
        },
        "id": "6jDudwUNz9vX",
        "outputId": "cb14d558-5a64-47af-928f-a4f181cd9a17"
      },
      "source": [
        "with open('output.txt','r') as file_data:\n",
        "  read_data = file_data.read()\n",
        "  print(''.join([word[0] for word in read_data.splitlines()]))"
      ],
      "execution_count": null,
      "outputs": [
        {
          "output_type": "stream",
          "name": "stdout",
          "text": [
            "WELLDONE\n"
          ]
        }
      ]
    }
  ]
}